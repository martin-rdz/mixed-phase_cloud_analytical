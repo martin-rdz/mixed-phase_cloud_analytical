{
 "cells": [
  {
   "cell_type": "markdown",
   "id": "8c7a2794",
   "metadata": {},
   "source": [
    "## Figures theory chapter\n",
    "\n",
    "Figures shown in Chapter 2 of my thesis\n",
    "\n",
    "### References\n",
    "- Bühl, J., Seifert, P., Myagkov, A., Ansmann, A., 2016. Measuring ice- and liquid-water properties in mixed-phase cloud layers at the Leipzig Cloudnet station. Atmospheric Chemistry and Physics 16, 10609–10620. [doi:10.5194/acp-16-10609-2016](https://doi.org/10.5194/acp-16-10609-2016)\n",
    "\n"
   ]
  },
  {
   "cell_type": "code",
   "execution_count": 18,
   "id": "9a997c12",
   "metadata": {},
   "outputs": [
    {
     "name": "stdout",
     "output_type": "stream",
     "text": [
      "The autoreload extension is already loaded. To reload it, use:\n",
      "  %reload_ext autoreload\n"
     ]
    }
   ],
   "source": [
    "%load_ext autoreload\n",
    "%autoreload 2"
   ]
  },
  {
   "cell_type": "code",
   "execution_count": 19,
   "id": "8d80a1d5",
   "metadata": {},
   "outputs": [],
   "source": [
    "import numpy as np\n",
    "from types import SimpleNamespace\n",
    "\n",
    "import matplotlib\n",
    "#matplotlib.use('Agg')\n",
    "import matplotlib.pyplot as plt\n",
    "\n",
    "import analytic_formulas as af"
   ]
  },
  {
   "cell_type": "code",
   "execution_count": 20,
   "id": "52b61a72",
   "metadata": {},
   "outputs": [],
   "source": [
    "%matplotlib inline"
   ]
  },
  {
   "cell_type": "code",
   "execution_count": null,
   "id": "a5d31745",
   "metadata": {
    "scrolled": false
   },
   "outputs": [],
   "source": []
  },
  {
   "cell_type": "code",
   "execution_count": 21,
   "id": "2575749b",
   "metadata": {},
   "outputs": [
    {
     "name": "stdout",
     "output_type": "stream",
     "text": [
      "[962.71936    979.29787995 988.55547633 994.12854572 997.49713443\n",
      " 999.29105414]\n",
      "input kwargs:  {'Lw': 'RY', 'rho_w': 'HS', 'D': 'HP', 'Ei': 'GG', 'Ew': 'GG'}\n",
      "[1.47361024 1.37864528 1.28838342 1.20337873 1.12381745 1.04966516]\n",
      "input kwargs:  {'Lw': 'RY', 'rho_w': 'HS', 'D': 'HP', 'Ei': 'AB', 'Ew': 'AB'}\n",
      "[1.47720893 1.38068384 1.28953684 1.2040185  1.12416666 1.04987298]\n",
      "input kwargs:  {'Lw': 'RY', 'rho_w': 'HS', 'D': 'HP', 'Ei': 'M', 'Ew': 'M'}\n",
      "[1.46088049 1.37066734 1.28367813 1.20082554 1.12263035 1.04933103]\n"
     ]
    }
   ],
   "source": [
    "\n",
    "Ts = np.arange(-40,0,7)\n",
    "\n",
    "rho_w = af.density_supercooled_water(Ts+273.15)\n",
    "print(rho_w)\n",
    "\n",
    "\n",
    "params = dict(Lw='RY',rho_w='HS', D='HP', Ei='GG', Ew='GG')\n",
    "f = af.get_factors(273.15+Ts, 680e2, **params)\n",
    "print(f.ksi)\n",
    "params = dict(Lw='RY',rho_w='HS', D='HP', Ei='AB', Ew='AB')\n",
    "f = af.get_factors(273.15+Ts, 680e2, **params)\n",
    "print(f.ksi)\n",
    "params = dict(Lw='RY',rho_w='HS', D='HP', Ei='M', Ew='M')\n",
    "f = af.get_factors(273.15+Ts, 680e2, **params)\n",
    "print(f.ksi)"
   ]
  },
  {
   "cell_type": "code",
   "execution_count": 22,
   "id": "7c042f9e",
   "metadata": {},
   "outputs": [
    {
     "data": {
      "image/png": "[encoded data removed]",
      "text/plain": [
       "<Figure size 273.6x360 with 2 Axes>"
      ]
     },
     "metadata": {
      "needs_background": "light"
     },
     "output_type": "display_data"
    }
   ],
   "source": [
    "# 0C 4e-2/200 -> 2e-4\n",
    "# 3e-2/200 -> 1.5e-4\n",
    "# 2.3e-2/200 -> 1.15e-4\n",
    "#1e-2/200 -> 5e-5\n",
    "\n",
    "# typical_lwc = np.array([5e-5, 5e-5, 1.07e-4, 1.5e-4, 2e-4])\n",
    "# T = np.array([-40, -30, -20, -10, 0])\n",
    "T = np.array([-35, -30, -25, -20, -15, -10,  -5,   0,])\n",
    "typical_lwc = np.array([5.00e-5, 5.00e-5, 7.85e-5, 1.07e-4, 1.29e-4, 1.50e-4, 1.75e-4, 2.00e-4])\n",
    "typical_lwc_min = np.array([2.50e-5, 2.50e-5, 2.7e-5, 0.5e-4, 0.65e-4, 0.65e-4, 1e-4, 1e-4])\n",
    "typical_lwc_max = np.array([1.0e-4, 1.0e-4, 1.5e-4, 2.0e-4, 2.5e-4, 2.5e-4, 3e-4, 3e-4])\n",
    "\n",
    "\n",
    "T = np.array([-35, -30, -25, -20, -15, -10, -5, 0])\n",
    "typical_ilcr = np.array([3.4e-2, 3e-2, 1.8e-2, 9e-3, 8.5e-3, 4.2e-4, 1.8e-4, 1.8e-4])\n",
    "typical_ilcr_min = np.array([1.5e-2, 1.35e-2, 6e-3, 3e-3, 2.5e-3, 1.3e-4, 4.5e-5, 4.5e-5])\n",
    "typical_ilcr_max = np.array([5e-2, 5e-2, 6e-2, 2.8e-2, 3e-2, 1.5e-3, 6e-4, 6e-4])\n",
    "\n",
    "# Ti = np.arange(-40,1,5)\n",
    "# print(Ti)\n",
    "# print(np.interp(Ti, T, typical_lwc))\n",
    "\n",
    "fig, ax = plt.subplots(2, 1, figsize=(3.8, 5), sharex=True)\n",
    "\n",
    "for e in zip(T, typical_lwc_min, typical_lwc_max):\n",
    "    ax[0].plot([e[0],e[0]], [e[1], e[2]], '-', color='dimgrey')\n",
    "ax[0].scatter(T, typical_lwc, marker='s', s=12, color='dimgrey')\n",
    "\n",
    "\n",
    "\n",
    "ax[0].set_yscale('log')\n",
    "ax[0].set_ylabel('Mean LWC [kg m$^{-3}$]', fontsize=13)\n",
    "ax[0].set_ylim(1e-5, 7e-4)\n",
    "\n",
    "for e in zip(T, typical_ilcr_min, typical_ilcr_max):\n",
    "    ax[1].plot([e[0],e[0]], [e[1], e[2]], '-', color='dimgrey')\n",
    "ax[1].scatter(T, typical_ilcr, marker='s', s=12, color='dimgrey')\n",
    "\n",
    "ax[1].set_yscale('log')\n",
    "ax[1].set_ylabel('Mean ILCR', fontsize=13)\n",
    "ax[1].set_ylim(3e-5, 1e-1)\n",
    "ax[1].set_xlabel('CTT [°C]', fontsize=13)\n",
    "\n",
    "for a in ax:\n",
    "    a.tick_params(axis='both', which='both', right=True, top=True)\n",
    "    a.tick_params(axis='both', which='major', labelsize=12,\n",
    "                   width=1.7, length=5)\n",
    "    a.tick_params(axis='both', which='minor', width=1.2, length=3)\n",
    "    a.xaxis.set_minor_locator(matplotlib.ticker.AutoMinorLocator())\n",
    "    # ax.yaxis.set_minor_locator(matplotlib.ticker.AutoMinorLocator())\n",
    "\n",
    "fig.tight_layout()\n",
    "\n",
    "fig.savefig('plots/ILCR_LWC_Bühl2016.png', dpi=250)"
   ]
  },
  {
   "cell_type": "code",
   "execution_count": 23,
   "id": "f9648f58",
   "metadata": {},
   "outputs": [
    {
     "name": "stdout",
     "output_type": "stream",
     "text": [
      "input kwargs:  {'Lw': 'RY', 'rho_w': 'HS', 'D': 'HP', 'Ei': 'M', 'Ew': 'M'}\n",
      "110.4391186825909\n",
      "input kwargs:  {'Lw': 'RY', 'rho_w': 'HS', 'D': 'HP', 'Ei': 'M', 'Ew': 'M'}\n",
      "175.31117317518562\n"
     ]
    },
    {
     "data": {
      "text/plain": [
       "1.5874010519681991"
      ]
     },
     "execution_count": 23,
     "metadata": {},
     "output_type": "execute_result"
    }
   ],
   "source": [
    "def t_gl(Ni, qw, qi, f, Nw=False,):\n",
    "    \"\"\"Pinsky 2014\n",
    "    \n",
    "    eq 15a\n",
    "    \"\"\"\n",
    "    \n",
    "    if Nw:\n",
    "        T2 = f.ksi*qw**(2/3)/(f.upsilon_w*f.Bw*Nw**(2/3))\n",
    "    else:\n",
    "        T2 = 0\n",
    "    \n",
    "    T1 = (((qi+f.a1/f.a2*qw)/Ni)**(2/3) - (qi/Ni)**(2/3))/(f.upsilon_i*f.Bi)\n",
    "    \n",
    "#     print(3/(2*(f.ksi-1)*f.upsilon_i*f.Bi))\n",
    "#     print('T1', T1)\n",
    "#     print('T2', T2)\n",
    "#     print('ksi', f.ksi - 1)\n",
    "    tau_gl = 3/(2*(f.ksi - 1))*(T1 + T2)\n",
    "    \n",
    "    return tau_gl\n",
    "\n",
    "\n",
    "print(t_gl(1000e3, 1e-4, 0, af.get_factors(273.15-20, 750e2, **params)))\n",
    "print(t_gl(500e3, 1e-4, 0, af.get_factors(273.15-20, 750e2, **params)))\n",
    "1/(97.66061638636636/155.0265651875807)"
   ]
  },
  {
   "cell_type": "code",
   "execution_count": 24,
   "id": "60c8ddc5",
   "metadata": {
    "scrolled": false
   },
   "outputs": [
    {
     "name": "stdout",
     "output_type": "stream",
     "text": [
      "input kwargs:  {'Lw': 'RY', 'rho_w': 'HS', 'D': 'HP', 'Ei': 'M', 'Ew': 'M'}\n",
      "[5.170000e-05 5.150000e-05 7.991300e-05 1.079630e-04 1.300965e-04\n",
      " 1.500630e-04 1.750315e-04 2.000360e-04]\n",
      "[511.92307061 511.26209754 591.89817289 654.3340227  696.29999502\n",
      " 730.24018641 768.68178978 803.66904644]\n",
      "input kwargs:  {'Lw': 'RY', 'rho_w': 'HS', 'D': 'HP', 'Ei': 'M', 'Ew': 'M'}\n",
      "[5.170000e-05 5.150000e-05 7.991300e-05 1.079630e-04 1.300965e-04\n",
      " 1.500630e-04 1.750315e-04 2.000360e-04]\n",
      "[237.61364082 237.3068443  274.73479499 303.71494932 323.19382817\n",
      " 338.94746951 356.7904812  373.03012719]\n",
      "input kwargs:  {'Lw': 'RY', 'rho_w': 'HS', 'D': 'HP', 'Ei': 'M', 'Ew': 'M'}\n",
      "[110.2904822  110.14807986 127.52059566 140.97199174 150.01328639\n",
      " 157.32547897 165.60747135 173.14524729]\n",
      "input kwargs:  {'Lw': 'RY', 'rho_w': 'HS', 'D': 'HP', 'Ei': 'M', 'Ew': 'M'}\n",
      "[51.19230706 51.12620975 59.18981729 65.43340227 69.6299995  73.02401864\n",
      " 76.86817898 80.36690464]\n",
      "input kwargs:  {'Lw': 'RY', 'rho_w': 'HS', 'D': 'HP', 'Ei': 'M', 'Ew': 'M'}\n",
      "[23.76136408 23.73068443 27.4734795  30.37149493 32.31938282 33.89474695\n",
      " 35.67904812 37.30301272]\n"
     ]
    },
    {
     "name": "stderr",
     "output_type": "stream",
     "text": [
      "<ipython-input-23-92e291ee13ff>:18: RuntimeWarning: divide by zero encountered in true_divide\n",
      "  tau_gl = 3/(2*(f.ksi - 1))*(T1 + T2)\n",
      "<ipython-input-23-92e291ee13ff>:18: RuntimeWarning: divide by zero encountered in true_divide\n",
      "  tau_gl = 3/(2*(f.ksi - 1))*(T1 + T2)\n",
      "<ipython-input-23-92e291ee13ff>:18: RuntimeWarning: divide by zero encountered in true_divide\n",
      "  tau_gl = 3/(2*(f.ksi - 1))*(T1 + T2)\n",
      "<ipython-input-23-92e291ee13ff>:18: RuntimeWarning: divide by zero encountered in true_divide\n",
      "  tau_gl = 3/(2*(f.ksi - 1))*(T1 + T2)\n",
      "<ipython-input-23-92e291ee13ff>:18: RuntimeWarning: divide by zero encountered in true_divide\n",
      "  tau_gl = 3/(2*(f.ksi - 1))*(T1 + T2)\n"
     ]
    },
    {
     "data": {
      "image/png": "[encoded data removed]",
      "text/plain": [
       "<Figure size 345.6x360 with 2 Axes>"
      ]
     },
     "metadata": {
      "needs_background": "light"
     },
     "output_type": "display_data"
    }
   ],
   "source": [
    "\n",
    "fig, ax = plt.subplots(figsize=(4.8, 5))\n",
    "\n",
    "mass_in_ice = typical_lwc+typical_ilcr*typical_lwc\n",
    "tau = t_gl(0.1e3, typical_lwc, typical_ilcr*typical_lwc, af.get_factors(273.15+T, 750e2, **params))\n",
    "ax.plot(T, tau, lw=1.1, color='dimgrey')\n",
    "ax.text(-8.5, tau[-3]*1.2, '0.1 L$^{-1}$', verticalalignment='top', color='dimgrey')\n",
    "N = 0.1e3\n",
    "r = (mass_in_ice*3/(N*af.rho_i*4*np.pi))**(1/3)\n",
    "print(mass_in_ice)\n",
    "print(r*1e6)\n",
    "# m = N*rho*4/3pir**3\n",
    "scat = ax.scatter(T, tau, c=r*1e6,\n",
    "                  cmap='viridis',\n",
    "                  norm=matplotlib.colors.LogNorm(vmin=35, vmax=750),\n",
    "                  zorder=3\n",
    "                 )\n",
    "\n",
    "\n",
    "tau = t_gl(1e3, typical_lwc, typical_ilcr*typical_lwc, af.get_factors(273.15+T, 750e2, **params))\n",
    "ax.plot(T, tau, lw=1.1, color='dimgrey')\n",
    "ax.text(-8.5, tau[-3]*1.2, '1 L$^{-1}$', verticalalignment='top', color='dimgrey')\n",
    "N = 1e3\n",
    "r = (mass_in_ice*3/(N*af.rho_i*4*np.pi))**(1/3)\n",
    "print(mass_in_ice)\n",
    "print(r*1e6)\n",
    "# m = N*rho*4/3pir**3\n",
    "scat = ax.scatter(T, tau, c=r*1e6,\n",
    "                  cmap='viridis',\n",
    "                  norm=matplotlib.colors.LogNorm(vmin=35, vmax=750),\n",
    "                  zorder=3\n",
    "                 )\n",
    "\n",
    "tau = t_gl(10e3, typical_lwc, typical_ilcr*typical_lwc, af.get_factors(273.15+T, 750e2, **params))\n",
    "ax.plot(T, tau, lw=1.1, color='dimgrey')\n",
    "ax.text(-8.5, tau[-3]*1.2, '10 L$^{-1}$', verticalalignment='top', color='dimgrey')\n",
    "N = 10e3\n",
    "r = (mass_in_ice*3/(N*af.rho_i*4*np.pi))**(1/3)\n",
    "print(r*1e6)\n",
    "scat = ax.scatter(T, tau, c=r*1e6,\n",
    "                  cmap='viridis',\n",
    "                  norm=matplotlib.colors.LogNorm(vmin=35, vmax=750),\n",
    "                  zorder=3\n",
    "                 )\n",
    "\n",
    "tau = t_gl(100e3, typical_lwc, typical_ilcr*typical_lwc, af.get_factors(273.15+T, 750e2, **params))\n",
    "ax.plot(T, tau, lw=1.1, color='dimgrey')\n",
    "ax.text(-8.5, tau[-3]*1.2, '100 L$^{-1}$', verticalalignment='top', color='dimgrey')\n",
    "N = 100e3\n",
    "r = (mass_in_ice*3/(N*af.rho_i*4*np.pi))**(1/3)\n",
    "print(r*1e6)\n",
    "scat = ax.scatter(T, tau, c=r*1e6,\n",
    "                  cmap='viridis',\n",
    "                  norm=matplotlib.colors.LogNorm(vmin=35, vmax=750),\n",
    "                  zorder=3\n",
    "                 )\n",
    "\n",
    "tau = t_gl(1000e3, typical_lwc, typical_ilcr*typical_lwc, af.get_factors(273.15+T, 750e2, **params))\n",
    "ax.plot(T, tau, lw=1.1, color='dimgrey')\n",
    "ax.text(-8.5, tau[-3]*1.2, '1000 L$^{-1}$', verticalalignment='top', color='dimgrey')\n",
    "N = 1000e3\n",
    "r = (mass_in_ice*3/(N*af.rho_i*4*np.pi))**(1/3)\n",
    "print(r*1e6)\n",
    "scat = ax.scatter(T, tau, c=r*1e6,\n",
    "                  cmap='viridis',\n",
    "                  norm=matplotlib.colors.LogNorm(vmin=35, vmax=750),\n",
    "                  zorder=3\n",
    "                 )\n",
    "\n",
    "cbar = fig.colorbar(scat, orientation=\"horizontal\", pad=0.19)\n",
    "cbar.set_label('Particle radius at glaciation [$\\\\mu$m]', fontsize=13)\n",
    "\n",
    "ax.set_ylim([6e1, 1.9e5])\n",
    "ax.set_yscale('log')\n",
    "ax.set_xlim([-40, 0])\n",
    "\n",
    "ax.set_ylabel('Glaciation time $\\\\tau_{\\\\mathrm{g}}$ [s]', fontsize=13)\n",
    "ax.set_xlabel('CTT [°C]', fontsize=13)\n",
    "\n",
    "# ax.legend(fontsize=11, ncol=3)\n",
    "\n",
    "ax.tick_params(axis='both', which='both', right=True, top=True)\n",
    "ax.tick_params(axis='both', which='major', labelsize=12,\n",
    "               width=1.7, length=5)\n",
    "ax.tick_params(axis='both', which='minor', width=1.2, length=3)\n",
    "cbar.ax.tick_params(axis='both', which='both', right=True, top=True)\n",
    "cbar.ax.tick_params(axis='both', which='major', labelsize=12,\n",
    "               width=1.7, length=5)\n",
    "cbar.ax.tick_params(axis='both', which='minor', width=1.2, length=3)\n",
    "# cbar.ax.xaxis.set_major_locator(matplotlib.ticker.LogLocator(base=3.0, numdecs=10))\n",
    "cbar.ax.xaxis.set_major_locator(matplotlib.ticker.FixedLocator([40,60,100,160, 250, 400, 600]))\n",
    "# cbar.ax.xaxis.set_minor_locator(matplotlib.ticker.FixedLocator([30, 50, 60, 70, 80, 90, 100, 200, 300,400]))\n",
    "cbar.ax.xaxis.set_major_formatter(matplotlib.ticker.ScalarFormatter())\n",
    "cbar.ax.xaxis.set_minor_formatter(matplotlib.ticker.NullFormatter())\n",
    "\n",
    "ax.xaxis.set_minor_locator(matplotlib.ticker.AutoMinorLocator())\n",
    "\n",
    "fig.tight_layout()\n",
    "fig.savefig('plots/glaciation_time_wbühl2016.png', dpi=250)"
   ]
  },
  {
   "cell_type": "code",
   "execution_count": null,
   "id": "eeb1bef9",
   "metadata": {},
   "outputs": [],
   "source": []
  },
  {
   "cell_type": "code",
   "execution_count": 25,
   "id": "aa31c750",
   "metadata": {},
   "outputs": [
    {
     "name": "stdout",
     "output_type": "stream",
     "text": [
      "Niri 1e-1\n",
      "ri[um] for 1L-1 100.0\n",
      "ri[um] for 1000L-1 0.1\n",
      "Niri 2e-1\n",
      "ri[um] for 1L-1 100000.0\n",
      "ri[um] for 1000L-1 100.0\n"
     ]
    }
   ],
   "source": [
    "print(\"Niri 1e-1\")\n",
    "print(\"ri[um] for 1L-1\", 1e-1/1e3*1e6)\n",
    "print(\"ri[um] for 1000L-1\", 1e-1/1000e3*1e6)\n",
    "\n",
    "print(\"Niri 2e-1\")\n",
    "print(\"ri[um] for 1L-1\", 1e2/1e3*1e6)\n",
    "print(\"ri[um] for 1000L-1\", 1e2/1000e3*1e6)"
   ]
  },
  {
   "cell_type": "code",
   "execution_count": 26,
   "id": "868f093b",
   "metadata": {
    "scrolled": false
   },
   "outputs": [
    {
     "name": "stdout",
     "output_type": "stream",
     "text": [
      "input kwargs:  {'Lw': 'RY', 'rho_w': 'HS', 'D': 'HP', 'Ei': 'AB', 'Ew': 'AB'}\n",
      "(40, 50)\n"
     ]
    },
    {
     "name": "stderr",
     "output_type": "stream",
     "text": [
      "<ipython-input-26-982996be4d82>:28: MatplotlibDeprecationWarning: shading='flat' when X and Y have the same dimensions as C is deprecated since 3.3.  Either specify the corners of the quadrilaterals with X and Y, or pass shading='auto', 'nearest' or 'gouraud', or set rcParams['pcolor.shading'].  This will become an error two minor releases later.\n",
      "  pcmesh = ax.pcolormesh(Ni*1e-3, ri*1e6, uz_star,\n"
     ]
    },
    {
     "data": {
      "image/png": "[encoded data removed]",
      "text/plain": [
       "<Figure size 360x288 with 2 Axes>"
      ]
     },
     "metadata": {
      "needs_background": "light"
     },
     "output_type": "display_data"
    }
   ],
   "source": [
    "def get_uz_star(Niri, f):\n",
    "       \n",
    "    uz_star = f.bi_s*Niri/f.a0 #critical (updraft) velocity for water growth\n",
    "    eta = f.a2*f.Bi_0/f.a0\n",
    "    uz_star2008 = ((f.Ew-f.Ei)/f.Ei)*f.eta*Niri\n",
    "    \n",
    "    return uz_star\n",
    "    \n",
    "    \n",
    "T = -20\n",
    "Ni = np.logspace(2.7, 6)\n",
    "ri = np.logspace(-5, -3,40)\n",
    "\n",
    "Niv, riv = np.meshgrid(Ni, ri)\n",
    "Niri = Niv*riv\n",
    "IWC = 4.0/3.0*np.pi*Niv*riv**3*af.rho_i\n",
    "\n",
    "\n",
    "params = dict(Lw='RY',rho_w='HS', D='HP', Ei='AB', Ew='AB')\n",
    "params_alt = dict()\n",
    "\n",
    "fig, ax = plt.subplots(figsize=(5, 4))\n",
    "\n",
    "uz_star = get_uz_star(Niri, af.get_factors(273.15+T, 750e2, **params))\n",
    "\n",
    "print(uz_star.shape)\n",
    "\n",
    "pcmesh = ax.pcolormesh(Ni*1e-3, ri*1e6, uz_star,\n",
    "                       norm=matplotlib.colors.LogNorm(vmin=0.01, vmax=7)\n",
    "                      )\n",
    "\n",
    "cont = ax.contour(Ni*1e-3, ri*1e6, IWC,\n",
    "                  levels=[1e-6, 1e-5, 1e-4, 1e-3, 1e-2],\n",
    "                  colors='white'\n",
    "                 )\n",
    "\n",
    "\n",
    "f = matplotlib.ticker.ScalarFormatter(useMathText=True)\n",
    "\n",
    "IWC = 1e-6\n",
    "ax.text(0.8*2.45, (3*IWC/(4*af.rho_i*np.pi*(0.8*1.45e3)))**(1/3)*1e6, \n",
    "        \"IWC ${}$\".format(f.format_data(IWC)), \n",
    "        horizontalalignment='center', rotation=-27,\n",
    "        verticalalignment='top', fontsize=12, color='white')\n",
    "IWC = 1e-5\n",
    "ax.text(0.8*2.4, (3*IWC/(4*af.rho_i*np.pi*(0.8*2e3)))**(1/3)*1e6, \n",
    "        \"${}$\".format(f.format_data(IWC)), \n",
    "        horizontalalignment='center', rotation=-30,\n",
    "        verticalalignment='top', fontsize=12, color='white')\n",
    "IWC = 1e-4\n",
    "ax.text(0.8*3.5, (3*IWC/(4*af.rho_i*np.pi*(0.8*2.8e3)))**(1/3)*1e6, \n",
    "        \"${}$\".format(f.format_data(IWC)), \n",
    "        horizontalalignment='center', rotation=-30,\n",
    "        verticalalignment='top', fontsize=12, color='white')\n",
    "IWC = 1e-3\n",
    "ax.text(0.75*5, (3*IWC/(4*af.rho_i*np.pi*(0.75*4.3e3)))**(1/3)*1e6, \n",
    "        \"${}$\".format(f.format_data(IWC)), \n",
    "        horizontalalignment='center', rotation=-30,\n",
    "        verticalalignment='top', fontsize=12, color='white')\n",
    "IWC = 1e-2\n",
    "ax.text(0.7*7.7, (3*IWC/(4*af.rho_i*np.pi*(0.7*6.5e3)))**(1/3)*1e6, \n",
    "        \"${}$\".format(f.format_data(IWC)), \n",
    "        horizontalalignment='center', rotation=-30,\n",
    "        verticalalignment='top', fontsize=12, color='white')\n",
    "\n",
    "\n",
    "cbar = fig.colorbar(pcmesh)\n",
    "cbar.set_label('w$^*$ [m s$^{-1}$]', fontsize=13)\n",
    "\n",
    "\n",
    "ax.set_yscale('log')\n",
    "ax.set_xscale('log')\n",
    "# ax.set_ylim([1e-4, 1e1])\n",
    "ax.set_ylabel('Radius r$_i$ [$\\\\mu$m]', fontsize=13)\n",
    "ax.set_xlabel('N$_i$ [L$^{-1}$]', fontsize=13)\n",
    "\n",
    "\n",
    "ax.tick_params(axis='both', which='both', right=True, top=True)\n",
    "ax.tick_params(axis='both', which='major', labelsize=12,\n",
    "               width=1.7, length=5)\n",
    "ax.tick_params(axis='both', which='minor', width=1.2, length=3)\n",
    "cbar.ax.tick_params(axis='both', which='both', right=True, top=True)\n",
    "cbar.ax.tick_params(axis='both', which='major', labelsize=12,\n",
    "               width=1.7, length=5)\n",
    "cbar.ax.tick_params(axis='both', which='minor', width=1.2, length=3)\n",
    "cbar.ax.yaxis.set_major_formatter(matplotlib.ticker.ScalarFormatter())\n",
    "\n",
    "fig.tight_layout()\n",
    "fig.savefig('plots/w_crit_2d.png', dpi=250)"
   ]
  },
  {
   "cell_type": "code",
   "execution_count": 27,
   "id": "f6c4fbf1",
   "metadata": {},
   "outputs": [],
   "source": [
    "from scipy.ndimage import median_filter"
   ]
  },
  {
   "cell_type": "code",
   "execution_count": 28,
   "id": "9f76973b",
   "metadata": {
    "scrolled": false
   },
   "outputs": [],
   "source": [
    "def t_gl_u(Ni, lwc, iwc, u, f, Nw=False,):\n",
    "    \"\"\"Pinsky 2014\n",
    "    \n",
    "    eq 23\n",
    "    \"\"\"\n",
    "    \n",
    "    qw = lwc/f.rho_a\n",
    "    qi = iwc/f.rho_a\n",
    "    \n",
    "    Nip23 = Ni**(2/3)\n",
    "    Nwp23 = Nw**(2/3)\n",
    "    \n",
    "    gamma = (3*f.a0*u)/(2*(f.ksi-1)*f.upsilon_i*f.Bi*Nip23*f.a2)\n",
    "    \n",
    "    q0 = (qi + f.a1*qw/f.a2 \\\n",
    "          - (((3*qi**(2/3))/(2*(f.ksi-1)*f.upsilon_i*f.Bi*Nip23)) - \\\n",
    "             ((3*f.ksi*qw**(2/3))/(2*(f.ksi-1)*f.upsilon_w*f.Bw*Nwp23)))*(f.a0/f.a2*u))\n",
    "    \n",
    "\n",
    "    discr = (- (4*gamma**3*q0**3+27*q0**4)).astype(np.complex64)\n",
    "    \n",
    "    case = (4*gamma**3 + 27*q0)\n",
    "#     print('discr ', discr)\n",
    "    print('case ', 4*gamma**3 + 27*q0)\n",
    "    \n",
    "    #print('inside root', -3*discr, np.sqrt(-3*discr))   \n",
    "        \n",
    "#     a = 1\n",
    "#     b = -1*gamma**2\n",
    "#     c = -2*q0*gamma\n",
    "#     d = -1*q0**2\n",
    "#     roots = np.roots([a, b, c, d])\n",
    "#     print('numpy ', roots)\n",
    "\n",
    "    t72_108_8_12 = (72*gamma**3*q0 + 108*q0**2 + 8*gamma**6 + 12*np.sqrt(-3*discr))\n",
    "    tt1 = t72_108_8_12**(1/3)/6 \\\n",
    "          + gamma**2/3 \\\n",
    "          + 2*gamma*(2*q0 + gamma**3/3)*t72_108_8_12**(-1/3)\n",
    "    \n",
    "    tt2 = -1/12*t72_108_8_12**(1/3) \\\n",
    "          + gamma**2/3 \\\n",
    "          - gamma*(2*q0 + gamma**3/3)*t72_108_8_12**(-1/3) \\\n",
    "          + (np.sqrt(3)/2)*np.array(1j)*(t72_108_8_12**(1/3)/6 - 2*gamma*(2*q0 + gamma**3/3)*t72_108_8_12**(-1/3))\n",
    "    \n",
    "#     print('tt1', tt1)\n",
    "#     print('tt2', tt2)\n",
    "    tt = np.zeros_like(tt1)\n",
    "    tt[case > 0] = tt1[case > 0]\n",
    "    tt[case < 0] = tt2[case < 0]\n",
    "    # values too close to 0 cause numerical problems\n",
    "    tt[np.abs(case)< 0.0005] = np.nan\n",
    "    \n",
    "#     print(tt)\n",
    "    tt = np.real(tt)\n",
    "\n",
    "#     print('tt ', tt)\n",
    "    tau_gl = 3/(2*(f.ksi - 1)*f.upsilon_i*f.Bi*Nip23)*tt - \\\n",
    "            3/(2*(f.ksi - 1))*((qi**(2/3)/(f.upsilon_i*f.Bi*Nip23))-((f.ksi*qw**(2/3))/(f.upsilon_w*f.Bw*Nwp23)))\n",
    "    \n",
    "    return tau_gl\n"
   ]
  },
  {
   "cell_type": "code",
   "execution_count": 36,
   "id": "1108ae5e",
   "metadata": {
    "scrolled": false
   },
   "outputs": [
    {
     "name": "stdout",
     "output_type": "stream",
     "text": [
      "input kwargs:  {'Lw': 'RY', 'rho_w': 'HS', 'D': 'HP', 'Ei': 'AB', 'Ew': 'AB'}\n",
      "case  [-1.76452665e+04 -1.62041775e+04 -1.48437679e+04 -1.35617134e+04\n",
      " -1.23556901e+04 -1.12233738e+04 -1.01624404e+04 -9.17056582e+03\n",
      " -8.24542599e+03 -7.38469679e+03 -6.58605414e+03 -5.84717394e+03\n",
      " -5.16573209e+03 -4.53940450e+03 -3.96586706e+03 -3.44279570e+03\n",
      " -2.96786630e+03 -2.53875479e+03 -2.15313705e+03 -1.80868900e+03\n",
      " -1.50308654e+03 -1.23400557e+03 -9.99122004e+02 -7.96111744e+02\n",
      " -6.22650694e+02 -4.76414759e+02 -3.55079843e+02 -2.56321852e+02\n",
      " -1.77816690e+02 -1.17240263e+02 -7.22684738e+01 -4.05772288e+01\n",
      " -1.98424325e+01 -7.73998972e+00 -1.94580520e+00 -1.35783836e-01\n",
      "  1.41695558e-02  8.28150138e-01  4.63025308e+00  1.37445735e+01\n",
      "  3.04952067e+01  5.72062477e+01  9.62017917e+01  1.49805934e+02\n",
      "  2.20342770e+02  3.10136394e+02  4.21510901e+02  5.56790388e+02\n",
      "  7.18298949e+02  9.08360679e+02  1.12929967e+03  1.38344003e+03\n",
      "  1.67310584e+03  2.00062119e+03  2.36831020e+03  2.77849694e+03\n",
      "  3.23350552e+03  3.73566003e+03  4.28728456e+03  4.89070322e+03\n",
      "  5.54824009e+03  6.26221927e+03  7.03496486e+03  7.86880096e+03\n",
      "  8.76605164e+03  9.72904102e+03  1.07600932e+04  1.18615322e+04]\n",
      "input kwargs:  {'Lw': 'RY', 'rho_w': 'HS', 'D': 'HP', 'Ei': 'AB', 'Ew': 'AB'}\n",
      "case  [-1.76446341e+02 -1.62035484e+02 -1.48431420e+02 -1.35610909e+02\n",
      " -1.23550708e+02 -1.12227578e+02 -1.01618277e+02 -9.16995639e+01\n",
      " -8.24481984e+01 -7.38409393e+01 -6.58545456e+01 -5.84657763e+01\n",
      " -5.16513906e+01 -4.53881475e+01 -3.96528059e+01 -3.44221251e+01\n",
      " -2.96728639e+01 -2.53817815e+01 -2.15256369e+01 -1.80811892e+01\n",
      " -1.50251974e+01 -1.23344205e+01 -9.98561768e+00 -7.95554787e+00\n",
      " -6.22097017e+00 -4.75864361e+00 -3.54532724e+00 -2.55778013e+00\n",
      " -1.77276130e+00 -1.16702982e+00 -7.17344724e-01 -4.00465068e-01\n",
      " -1.93149899e-01 -7.21582645e-02 -1.42492131e-02  3.81820679e-03\n",
      "  5.28494694e-03  1.33919590e-02  5.13801946e-02  1.42490606e-01\n",
      "  3.09964143e-01  5.77041760e-01  9.66964406e-01  1.50297303e+00\n",
      "  2.20830860e+00  3.10621204e+00  4.21992433e+00  5.57268640e+00\n",
      "  7.18773921e+00  9.08832372e+00  1.12976809e+01  1.38390516e+01\n",
      "  1.67356769e+01  2.00107977e+01  2.36876549e+01  2.77894896e+01\n",
      "  3.23395426e+01  3.73610549e+01  4.28772674e+01  4.89114212e+01\n",
      "  5.54867571e+01  6.26265162e+01  7.03539393e+01  7.86922674e+01\n",
      "  8.76647415e+01  9.72946025e+01  1.07605091e+02  1.18619449e+02]\n",
      "input kwargs:  {'Lw': 'RY', 'rho_w': 'HS', 'D': 'HP', 'Ei': 'AB', 'Ew': 'AB'}\n",
      "case  [-1.75966579e+00 -1.61554728e+00 -1.47949671e+00 -1.35128165e+00\n",
      " -1.23066971e+00 -1.11742846e+00 -1.01132551e+00 -9.12128442e-01\n",
      " -8.19604847e-01 -7.33522316e-01 -6.53648438e-01 -5.79750806e-01\n",
      " -5.11597009e-01 -4.48954637e-01 -3.91591282e-01 -3.39274533e-01\n",
      " -2.91771981e-01 -2.48851217e-01 -2.10279831e-01 -1.75825414e-01\n",
      " -1.45255555e-01 -1.18337847e-01 -9.48398778e-02 -7.45292396e-02\n",
      " -5.71735224e-02 -4.25403166e-02 -3.03972129e-02 -2.05118015e-02\n",
      " -1.26516731e-02 -6.58441815e-03 -2.07762706e-03  1.10110964e-03\n",
      "  3.18420149e-03  4.40405798e-03  4.99308864e-03  5.18370299e-03\n",
      "  5.20831054e-03  5.29932082e-03  5.68914332e-03  6.61018758e-03\n",
      "  8.29486311e-03  1.09755794e-02  1.48847460e-02  2.02547725e-02\n",
      "  2.73180682e-02  3.63070429e-02  4.74541059e-02  6.09916667e-02\n",
      "  7.71521350e-02  9.61679202e-02  1.18271432e-01  1.43695079e-01\n",
      "  1.72671272e-01  2.05432421e-01  2.42210933e-01  2.83239220e-01\n",
      "  3.28749690e-01  3.78974753e-01  4.34146819e-01  4.94498296e-01\n",
      "  5.60261596e-01  6.31669126e-01  7.08953298e-01  7.92346519e-01\n",
      "  8.82081200e-01  9.78389750e-01  1.08150458e+00  1.19165810e+00]\n",
      "input kwargs:  {'Lw': 'RY', 'rho_w': 'HS', 'D': 'HP', 'Ei': 'AB', 'Ew': 'AB'}\n",
      "case  [-6.60080753e-02 -6.02260331e-02 -5.47667081e-02 -4.96208040e-02\n",
      " -4.47790243e-02 -4.02320726e-02 -3.59706527e-02 -3.19854681e-02\n",
      " -2.82672224e-02 -2.48066192e-02 -2.15943623e-02 -1.86211551e-02\n",
      " -1.58777013e-02 -1.33547045e-02 -1.10428684e-02 -8.93289658e-03\n",
      " -7.01549263e-03 -5.28136018e-03 -3.72120285e-03 -2.32572426e-03\n",
      " -1.08562804e-03  8.38219690e-06  9.65602836e-04  1.79533025e-03\n",
      "  2.50686083e-03  3.10949095e-03  3.61251699e-03  4.02523533e-03\n",
      "  4.35694236e-03  4.61693445e-03  4.81450798e-03  4.95895934e-03\n",
      "  5.05958490e-03  5.12568105e-03  5.16654417e-03  5.19147063e-03\n",
      "  5.20975682e-03  5.23069912e-03  5.26359391e-03  5.31773757e-03\n",
      "  5.40242648e-03  5.52695702e-03  5.70062558e-03  5.93272852e-03\n",
      "  6.23256224e-03  6.60942312e-03  7.07260753e-03  7.63141185e-03\n",
      "  8.29513247e-03  9.07306577e-03  9.97450812e-03  1.10087559e-02\n",
      "  1.21851055e-02  1.35128533e-02  1.50012957e-02  1.66597291e-02\n",
      "  1.84974498e-02  2.05237542e-02  2.27479387e-02  2.51792997e-02\n",
      "  2.78271336e-02  3.07007367e-02  3.38094054e-02  3.71624362e-02\n",
      "  4.07691253e-02  4.46387692e-02  4.87806642e-02  5.32041068e-02]\n",
      "input kwargs:  {'Lw': 'RY', 'rho_w': 'HS', 'D': 'HP', 'Ei': 'AB', 'Ew': 'AB'}\n",
      "case  [-0.01312785 -0.01166752 -0.01028787 -0.00898657 -0.00776131 -0.00660975\n",
      " -0.00552957 -0.00451845 -0.00357407 -0.0026941  -0.00187621 -0.00111809\n",
      " -0.0004174   0.00022817  0.00082095  0.00136326  0.00185743  0.00230579\n",
      "  0.00271065  0.00307434  0.00339919  0.00368751  0.00394164  0.00416389\n",
      "  0.00435659  0.00452207  0.00466265  0.00478065  0.0048784   0.00495822\n",
      "  0.00502243  0.00507337  0.00511335  0.00514469  0.00516973  0.00519078\n",
      "  0.00521017  0.00523023  0.00525328  0.00528163  0.00531763  0.00536358\n",
      "  0.00542182  0.00549467  0.00558445  0.00569348  0.0058241   0.00597862\n",
      "  0.00615938  0.00636868  0.00660886  0.00688225  0.00719115  0.00753791\n",
      "  0.00792484  0.00835427  0.00882853  0.00934992  0.00992079  0.01054345\n",
      "  0.01122023  0.01195346  0.01274544  0.01359852  0.01451502  0.01549725\n",
      "  0.01654754  0.01766823]\n"
     ]
    },
    {
     "name": "stderr",
     "output_type": "stream",
     "text": [
      "<ipython-input-36-6fc2fbbafb65>:38: RuntimeWarning: invalid value encountered in greater\n",
      "  tau[u*tau > 4000] = np.nan\n",
      "<ipython-input-36-6fc2fbbafb65>:42: RuntimeWarning: invalid value encountered in greater\n",
      "  tau[u*tau > 4000] = np.nan\n"
     ]
    },
    {
     "data": {
      "image/png": "[encoded data removed]",
      "text/plain": [
       "<Figure size 316.8x288 with 1 Axes>"
      ]
     },
     "metadata": {
      "needs_background": "light"
     },
     "output_type": "display_data"
    }
   ],
   "source": [
    "u = np.arange(-5,4.5,0.14)\n",
    "\n",
    "\n",
    "fig, ax = plt.subplots(figsize=(4.4, 4))\n",
    "\n",
    "thres = 1500/u\n",
    "thres[thres < 0] =np.nan\n",
    "ax.fill_between(u, thres, 1e5, color='grey', alpha=0.2)\n",
    "ax.text(2.25, 1.6e4, \n",
    "        \"$\\Delta $Z > 1.5 km\", \n",
    "        horizontalalignment='center',\n",
    "        verticalalignment='top', fontsize=12, color='dimgrey')\n",
    "\n",
    "ax.text(2.25, 2.5e2, \n",
    "        \"updraft\", \n",
    "        horizontalalignment='center',\n",
    "        verticalalignment='top', fontsize=12, color='black')\n",
    "ax.text(-3.3, 2.5e2, \n",
    "        \"downdraft\", \n",
    "        horizontalalignment='center',\n",
    "        verticalalignment='top', fontsize=12, color='black')\n",
    "\n",
    "ax.axvline(0, lw=0.8, ls=(0, (6, 5)), color='black')\n",
    "\n",
    "tau = t_gl_u(1e3, 0.2e-3, 1e-7, u, af.get_factors(273.15-15, 750e2, **params), Nw=100e6)\n",
    "tau[u*tau > 4000] = np.nan\n",
    "ax.plot(u[~np.isnan(tau)], tau[~np.isnan(tau)], label='1 L$^{-1}$')\n",
    "\n",
    "tau = t_gl_u(10e3, 0.2e-3, 1e-7, u, af.get_factors(273.15-15, 750e2, **params), Nw=100e6)\n",
    "tau[u*tau > 4000] = np.nan\n",
    "ax.plot(u[~np.isnan(tau)], tau[~np.isnan(tau)], label='10 L$^{-1}$')\n",
    "\n",
    "tau = t_gl_u(100e3, 0.2e-3, 1e-7, u, af.get_factors(273.15-15, 750e2, **params), Nw=100e6)\n",
    "tau[u*tau > 4000] = np.nan\n",
    "ax.plot(u[~np.isnan(tau)], tau[~np.isnan(tau)], label='100 L$^{-1}$')\n",
    "\n",
    "tau = t_gl_u(500e3, 0.2e-3, 1e-7, u, af.get_factors(273.15-15, 750e2, **params), Nw=100e6)\n",
    "tau[u*tau > 4000] = np.nan\n",
    "ax.plot(u[~np.isnan(tau)], tau[~np.isnan(tau)], label='500 L$^{-1}$')\n",
    "\n",
    "tau = t_gl_u(1000e3, 0.2e-3, 1e-7, u, af.get_factors(273.15-15, 750e2, **params), Nw=100e6)\n",
    "tau[u*tau > 4000] = np.nan\n",
    "ax.plot(u[~np.isnan(tau)], tau[~np.isnan(tau)], label='1000 L$^{-1}$')\n",
    "\n",
    "ax.legend(fontsize=11)\n",
    "ax.set_ylim([5e1, 5e4])\n",
    "ax.set_yscale('log')\n",
    "ax.set_xlim([-5, 4])\n",
    "\n",
    "ax.set_ylabel('Glaciation time $\\\\tau_\\\\mathrm{g}$ [s]', fontsize=13)\n",
    "ax.set_xlabel('Vertical velocity $w$ [m s$^{-1}$]', fontsize=13)\n",
    "\n",
    "ax.xaxis.set_minor_locator(matplotlib.ticker.AutoMinorLocator())\n",
    "\n",
    "ax.tick_params(axis='both', which='both', right=True, top=True)\n",
    "ax.tick_params(axis='both', which='major', labelsize=12,\n",
    "               width=1.7, length=5)\n",
    "ax.tick_params(axis='both', which='minor', width=1.2, length=3)\n",
    "\n",
    "fig.tight_layout()\n",
    "fig.savefig('plots/glaciation_time_u.png', dpi=250)"
   ]
  },
  {
   "cell_type": "code",
   "execution_count": null,
   "id": "f8ea01a1",
   "metadata": {},
   "outputs": [],
   "source": []
  },
  {
   "cell_type": "code",
   "execution_count": null,
   "id": "585522a4",
   "metadata": {},
   "outputs": [],
   "source": []
  }
 ],
 "metadata": {
  "kernelspec": {
   "display_name": "Python 3",
   "language": "python",
   "name": "python3"
  },
  "language_info": {
   "codemirror_mode": {
    "name": "ipython",
    "version": 3
   },
   "file_extension": ".py",
   "mimetype": "text/x-python",
   "name": "python",
   "nbconvert_exporter": "python",
   "pygments_lexer": "ipython3",
   "version": "3.8.5"
  }
 },
 "nbformat": 4,
 "nbformat_minor": 5
}
