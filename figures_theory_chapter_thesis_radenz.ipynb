{
 "cells": [
  {
   "cell_type": "markdown",
   "id": "3dffbaba",
   "metadata": {},
   "source": [
    "## Figures theory chapter\n",
    "\n",
    "Figures shown in Chapter 2 of my thesis\n",
    "\n",
    "### References\n",
    "- Bühl, J., Seifert, P., Myagkov, A., Ansmann, A., 2016. Measuring ice- and liquid-water properties in mixed-phase cloud layers at the Leipzig Cloudnet station. Atmospheric Chemistry and Physics 16, 10609–10620. [doi:10.5194/acp-16-10609-2016](https://doi.org/10.5194/acp-16-10609-2016)\n",
    "\n"
   ]
  },
  {
   "cell_type": "code",
   "execution_count": 150,
   "id": "9a997c12",
   "metadata": {},
   "outputs": [
    {
     "name": "stdout",
     "output_type": "stream",
     "text": [
      "The autoreload extension is already loaded. To reload it, use:\n",
      "  %reload_ext autoreload\n"
     ]
    }
   ],
   "source": [
    "%load_ext autoreload\n",
    "%autoreload 2"
   ]
  },
  {
   "cell_type": "code",
   "execution_count": 151,
   "id": "8d80a1d5",
   "metadata": {},
   "outputs": [],
   "source": [
    "import numpy as np\n",
    "from types import SimpleNamespace\n",
    "\n",
    "import matplotlib\n",
    "#matplotlib.use('Agg')\n",
    "import matplotlib.pyplot as plt\n",
    "\n",
    "import analytic_formulas as af"
   ]
  },
  {
   "cell_type": "code",
   "execution_count": 152,
   "id": "52b61a72",
   "metadata": {},
   "outputs": [],
   "source": [
    "%matplotlib inline"
   ]
  },
  {
   "cell_type": "code",
   "execution_count": 153,
   "id": "a5d31745",
   "metadata": {
    "scrolled": false
   },
   "outputs": [],
   "source": []
  },
  {
   "cell_type": "code",
   "execution_count": 118,
   "id": "2575749b",
   "metadata": {},
   "outputs": [
    {
     "name": "stdout",
     "output_type": "stream",
     "text": [
      "[962.71936    979.29787995 988.55547633 994.12854572 997.49713443\n",
      " 999.29105414]\n",
      "input kwargs:  {'Lw': 'RY', 'rho_w': 'HS', 'D': 'HP', 'Ei': 'GG', 'Ew': 'GG'}\n",
      "[1.47361024 1.37864528 1.28838342 1.20337873 1.12381745 1.04966516]\n",
      "input kwargs:  {'Lw': 'RY', 'rho_w': 'HS', 'D': 'HP', 'Ei': 'AB', 'Ew': 'AB'}\n",
      "[1.47720893 1.38068384 1.28953684 1.2040185  1.12416666 1.04987298]\n",
      "input kwargs:  {'Lw': 'RY', 'rho_w': 'HS', 'D': 'HP', 'Ei': 'M', 'Ew': 'M'}\n",
      "[1.46088049 1.37066734 1.28367813 1.20082554 1.12263035 1.04933103]\n"
     ]
    }
   ],
   "source": [
    "\n",
    "Ts = np.arange(-40,0,7)\n",
    "\n",
    "rho_w = af.density_supercooled_water(Ts+273.15)\n",
    "print(rho_w)\n",
    "\n",
    "\n",
    "params = dict(Lw='RY',rho_w='HS', D='HP', Ei='GG', Ew='GG')\n",
    "f = af.get_factors(273.15+Ts, 680e2, **params)\n",
    "print(f.ksi)\n",
    "params = dict(Lw='RY',rho_w='HS', D='HP', Ei='AB', Ew='AB')\n",
    "f = af.get_factors(273.15+Ts, 680e2, **params)\n",
    "print(f.ksi)\n",
    "params = dict(Lw='RY',rho_w='HS', D='HP', Ei='M', Ew='M')\n",
    "f = af.get_factors(273.15+Ts, 680e2, **params)\n",
    "print(f.ksi)"
   ]
  },
  {
   "cell_type": "code",
   "execution_count": 119,
   "id": "7c042f9e",
   "metadata": {},
   "outputs": [
    {
     "data": {
      "image/png": "[encoded data removed]",
      "text/plain": [
       "<Figure size 273.6x360 with 2 Axes>"
      ]
     },
     "metadata": {
      "needs_background": "light"
     },
     "output_type": "display_data"
    }
   ],
   "source": [
    "# 0C 4e-2/200 -> 2e-4\n",
    "# 3e-2/200 -> 1.5e-4\n",
    "# 2.3e-2/200 -> 1.15e-4\n",
    "#1e-2/200 -> 5e-5\n",
    "\n",
    "# typical_lwc = np.array([5e-5, 5e-5, 1.07e-4, 1.5e-4, 2e-4])\n",
    "# T = np.array([-40, -30, -20, -10, 0])\n",
    "T = np.array([-35, -30, -25, -20, -15, -10,  -5,   0,])\n",
    "typical_lwc = np.array([5.00e-5, 5.00e-5, 7.85e-5, 1.07e-4, 1.29e-4, 1.50e-4, 1.75e-4, 2.00e-4])\n",
    "typical_lwc_min = np.array([2.50e-5, 2.50e-5, 2.7e-5, 0.5e-4, 0.65e-4, 0.65e-4, 1e-4, 1e-4])\n",
    "typical_lwc_max = np.array([1.0e-4, 1.0e-4, 1.5e-4, 2.0e-4, 2.5e-4, 2.5e-4, 3e-4, 3e-4])\n",
    "\n",
    "\n",
    "T = np.array([-35, -30, -25, -20, -15, -10, -5, 0])\n",
    "typical_ilcr = np.array([3.4e-2, 3e-2, 1.8e-2, 9e-3, 8.5e-3, 4.2e-4, 1.8e-4, 1.8e-4])\n",
    "typical_ilcr_min = np.array([1.5e-2, 1.35e-2, 6e-3, 3e-3, 2.5e-3, 1.3e-4, 4.5e-5, 4.5e-5])\n",
    "typical_ilcr_max = np.array([5e-2, 5e-2, 6e-2, 2.8e-2, 3e-2, 1.5e-3, 6e-4, 6e-4])\n",
    "\n",
    "# Ti = np.arange(-40,1,5)\n",
    "# print(Ti)\n",
    "# print(np.interp(Ti, T, typical_lwc))\n",
    "\n",
    "fig, ax = plt.subplots(2, 1, figsize=(3.8, 5), sharex=True)\n",
    "\n",
    "for e in zip(T, typical_lwc_min, typical_lwc_max):\n",
    "    ax[0].plot([e[0],e[0]], [e[1], e[2]], '-', color='dimgrey')\n",
    "ax[0].scatter(T, typical_lwc, marker='s', s=12, color='dimgrey')\n",
    "\n",
    "\n",
    "\n",
    "ax[0].set_yscale('log')\n",
    "ax[0].set_ylabel('Mean LWC [kg m$^{-3}$]', fontsize=13)\n",
    "ax[0].set_ylim(1e-5, 7e-4)\n",
    "\n",
    "for e in zip(T, typical_ilcr_min, typical_ilcr_max):\n",
    "    ax[1].plot([e[0],e[0]], [e[1], e[2]], '-', color='dimgrey')\n",
    "ax[1].scatter(T, typical_ilcr, marker='s', s=12, color='dimgrey')\n",
    "\n",
    "ax[1].set_yscale('log')\n",
    "ax[1].set_ylabel('Mean ILCR', fontsize=13)\n",
    "ax[1].set_ylim(3e-5, 1e-1)\n",
    "ax[1].set_xlabel('CTT [°C]', fontsize=13)\n",
    "\n",
    "for a in ax:\n",
    "    a.tick_params(axis='both', which='both', right=True, top=True)\n",
    "    a.tick_params(axis='both', which='major', labelsize=12,\n",
    "                   width=1.7, length=5)\n",
    "    a.tick_params(axis='both', which='minor', width=1.2, length=3)\n",
    "    a.xaxis.set_minor_locator(matplotlib.ticker.AutoMinorLocator())\n",
    "    # ax.yaxis.set_minor_locator(matplotlib.ticker.AutoMinorLocator())\n",
    "\n",
    "fig.tight_layout()\n",
    "\n",
    "fig.savefig('ILCR_LWC_Bühl2016.png', dpi=250)"
   ]
  },
  {
   "cell_type": "code",
   "execution_count": 120,
   "id": "f9648f58",
   "metadata": {},
   "outputs": [
    {
     "name": "stdout",
     "output_type": "stream",
     "text": [
      "input kwargs:  {'Lw': 'RY', 'rho_w': 'HS', 'D': 'HP', 'Ei': 'M', 'Ew': 'M'}\n",
      "109.61539880371663\n",
      "input kwargs:  {'Lw': 'RY', 'rho_w': 'HS', 'D': 'HP', 'Ei': 'M', 'Ew': 'M'}\n",
      "174.0035993729335\n"
     ]
    },
    {
     "data": {
      "text/plain": [
       "1.5874010519681991"
      ]
     },
     "execution_count": 120,
     "metadata": {},
     "output_type": "execute_result"
    }
   ],
   "source": [
    "def t_gl(Ni, qw, qi, f, Nw=False,):\n",
    "    \"\"\"Pinsky 2014\n",
    "    \n",
    "    eq 15a\n",
    "    \"\"\"\n",
    "    \n",
    "    if Nw:\n",
    "        T2 = f.ksi*qw**(2/3)/(f.upsilon_w*f.Bw*Nw**(2/3))\n",
    "    else:\n",
    "        T2 = 0\n",
    "    \n",
    "    T1 = (((qi+f.a1/f.a2*qw)/Ni)**(2/3) - (qi/Ni)**(2/3))/(f.upsilon_i*f.Bi)\n",
    "    \n",
    "#     print(3/(2*(f.ksi-1)*f.upsilon_i*f.Bi))\n",
    "#     print('T1', T1)\n",
    "#     print('T2', T2)\n",
    "#     print('ksi', f.ksi - 1)\n",
    "    tau_gl = 3/(2*(f.ksi - 1))*(T1 + T2)\n",
    "    \n",
    "    return tau_gl\n",
    "\n",
    "\n",
    "print(t_gl(1000e3, 1e-4, 0, af.get_factors(273.15-20, 750e2, **params)))\n",
    "print(t_gl(500e3, 1e-4, 0, af.get_factors(273.15-20, 750e2, **params)))\n",
    "1/(97.66061638636636/155.0265651875807)"
   ]
  },
  {
   "cell_type": "code",
   "execution_count": 122,
   "id": "60c8ddc5",
   "metadata": {
    "scrolled": false
   },
   "outputs": [
    {
     "name": "stdout",
     "output_type": "stream",
     "text": [
      "input kwargs:  {'Lw': 'RY', 'rho_w': 'HS', 'D': 'HP', 'Ei': 'M', 'Ew': 'M'}\n",
      "[5.170000e-05 5.150000e-05 7.991300e-05 1.079630e-04 1.300965e-04\n",
      " 1.500630e-04 1.750315e-04 2.000360e-04]\n",
      "[515.68734602 515.02151268 596.25052164 659.14547507 701.4200318\n",
      " 735.60979238 774.33406475 809.57858989]\n",
      "input kwargs:  {'Lw': 'RY', 'rho_w': 'HS', 'D': 'HP', 'Ei': 'M', 'Ew': 'M'}\n",
      "[5.170000e-05 5.150000e-05 7.991300e-05 1.079630e-04 1.300965e-04\n",
      " 1.500630e-04 1.750315e-04 2.000360e-04]\n",
      "[239.36086269 239.05181023 276.75497633 305.94822768 325.57033873\n",
      " 341.43981982 359.41403484 375.77309428]\n",
      "input kwargs:  {'Lw': 'RY', 'rho_w': 'HS', 'D': 'HP', 'Ei': 'M', 'Ew': 'M'}\n",
      "[111.10147075 110.9580213  128.45828078 142.00858773 151.11636488\n",
      " 158.4823255  166.82521708 174.41841984]\n",
      "input kwargs:  {'Lw': 'RY', 'rho_w': 'HS', 'D': 'HP', 'Ei': 'M', 'Ew': 'M'}\n",
      "[51.5687346  51.50215127 59.62505216 65.91454751 70.14200318 73.56097924\n",
      " 77.43340648 80.95785899]\n",
      "input kwargs:  {'Lw': 'RY', 'rho_w': 'HS', 'D': 'HP', 'Ei': 'M', 'Ew': 'M'}\n",
      "[23.93608627 23.90518102 27.67549763 30.59482277 32.55703387 34.14398198\n",
      " 35.94140348 37.57730943]\n"
     ]
    },
    {
     "name": "stderr",
     "output_type": "stream",
     "text": [
      "<ipython-input-120-92e291ee13ff>:18: RuntimeWarning: divide by zero encountered in true_divide\n",
      "  tau_gl = 3/(2*(f.ksi - 1))*(T1 + T2)\n",
      "<ipython-input-120-92e291ee13ff>:18: RuntimeWarning: divide by zero encountered in true_divide\n",
      "  tau_gl = 3/(2*(f.ksi - 1))*(T1 + T2)\n",
      "<ipython-input-120-92e291ee13ff>:18: RuntimeWarning: divide by zero encountered in true_divide\n",
      "  tau_gl = 3/(2*(f.ksi - 1))*(T1 + T2)\n",
      "<ipython-input-120-92e291ee13ff>:18: RuntimeWarning: divide by zero encountered in true_divide\n",
      "  tau_gl = 3/(2*(f.ksi - 1))*(T1 + T2)\n",
      "<ipython-input-120-92e291ee13ff>:18: RuntimeWarning: divide by zero encountered in true_divide\n",
      "  tau_gl = 3/(2*(f.ksi - 1))*(T1 + T2)\n"
     ]
    },
    {
     "data": {
      "image/png": "[encoded data removed]",
      "text/plain": [
       "<Figure size 345.6x360 with 2 Axes>"
      ]
     },
     "metadata": {
      "needs_background": "light"
     },
     "output_type": "display_data"
    }
   ],
   "source": [
    "\n",
    "fig, ax = plt.subplots(figsize=(4.8, 5))\n",
    "\n",
    "mass_in_ice = typical_lwc+typical_ilcr*typical_lwc\n",
    "tau = t_gl(0.1e3, typical_lwc, typical_ilcr*typical_lwc, af.get_factors(273.15+T, 750e2, **params))\n",
    "ax.plot(T, tau, lw=1.1, color='dimgrey')\n",
    "ax.text(-8.5, tau[-3]*1.2, '0.1 L$^{-1}$', verticalalignment='top', color='dimgrey')\n",
    "N = 0.1e3\n",
    "r = (mass_in_ice*3/(N*af.rho_i*4*np.pi))**(1/3)\n",
    "print(mass_in_ice)\n",
    "print(r*1e6)\n",
    "# m = N*rho*4/3pir**3\n",
    "scat = ax.scatter(T, tau, c=r*1e6,\n",
    "                  cmap='viridis',\n",
    "                  norm=matplotlib.colors.LogNorm(vmin=35, vmax=750),\n",
    "                  zorder=3\n",
    "                 )\n",
    "\n",
    "\n",
    "tau = t_gl(1e3, typical_lwc, typical_ilcr*typical_lwc, af.get_factors(273.15+T, 750e2, **params))\n",
    "ax.plot(T, tau, lw=1.1, color='dimgrey')\n",
    "ax.text(-8.5, tau[-3]*1.2, '1 L$^{-1}$', verticalalignment='top', color='dimgrey')\n",
    "N = 1e3\n",
    "r = (mass_in_ice*3/(N*af.rho_i*4*np.pi))**(1/3)\n",
    "print(mass_in_ice)\n",
    "print(r*1e6)\n",
    "# m = N*rho*4/3pir**3\n",
    "scat = ax.scatter(T, tau, c=r*1e6,\n",
    "                  cmap='viridis',\n",
    "                  norm=matplotlib.colors.LogNorm(vmin=35, vmax=750),\n",
    "                  zorder=3\n",
    "                 )\n",
    "\n",
    "tau = t_gl(10e3, typical_lwc, typical_ilcr*typical_lwc, af.get_factors(273.15+T, 750e2, **params))\n",
    "ax.plot(T, tau, lw=1.1, color='dimgrey')\n",
    "ax.text(-8.5, tau[-3]*1.2, '10 L$^{-1}$', verticalalignment='top', color='dimgrey')\n",
    "N = 10e3\n",
    "r = (mass_in_ice*3/(N*af.rho_i*4*np.pi))**(1/3)\n",
    "print(r*1e6)\n",
    "scat = ax.scatter(T, tau, c=r*1e6,\n",
    "                  cmap='viridis',\n",
    "                  norm=matplotlib.colors.LogNorm(vmin=35, vmax=750),\n",
    "                  zorder=3\n",
    "                 )\n",
    "\n",
    "tau = t_gl(100e3, typical_lwc, typical_ilcr*typical_lwc, af.get_factors(273.15+T, 750e2, **params))\n",
    "ax.plot(T, tau, lw=1.1, color='dimgrey')\n",
    "ax.text(-8.5, tau[-3]*1.2, '100 L$^{-1}$', verticalalignment='top', color='dimgrey')\n",
    "N = 100e3\n",
    "r = (mass_in_ice*3/(N*af.rho_i*4*np.pi))**(1/3)\n",
    "print(r*1e6)\n",
    "scat = ax.scatter(T, tau, c=r*1e6,\n",
    "                  cmap='viridis',\n",
    "                  norm=matplotlib.colors.LogNorm(vmin=35, vmax=750),\n",
    "                  zorder=3\n",
    "                 )\n",
    "\n",
    "tau = t_gl(1000e3, typical_lwc, typical_ilcr*typical_lwc, af.get_factors(273.15+T, 750e2, **params))\n",
    "ax.plot(T, tau, lw=1.1, color='dimgrey')\n",
    "ax.text(-8.5, tau[-3]*1.2, '1000 L$^{-1}$', verticalalignment='top', color='dimgrey')\n",
    "N = 1000e3\n",
    "r = (mass_in_ice*3/(N*af.rho_i*4*np.pi))**(1/3)\n",
    "print(r*1e6)\n",
    "scat = ax.scatter(T, tau, c=r*1e6,\n",
    "                  cmap='viridis',\n",
    "                  norm=matplotlib.colors.LogNorm(vmin=35, vmax=750),\n",
    "                  zorder=3\n",
    "                 )\n",
    "\n",
    "cbar = fig.colorbar(scat, orientation=\"horizontal\", pad=0.19)\n",
    "cbar.set_label('Particle radius at glaciation [$\\\\mu$m]', fontsize=13)\n",
    "\n",
    "ax.set_ylim([6e1, 1.9e5])\n",
    "ax.set_yscale('log')\n",
    "ax.set_xlim([-40, 0])\n",
    "\n",
    "ax.set_ylabel('Glaciation time $\\\\tau_{gl}$ [s]', fontsize=13)\n",
    "ax.set_xlabel('CTT [°C]', fontsize=13)\n",
    "\n",
    "# ax.legend(fontsize=11, ncol=3)\n",
    "\n",
    "ax.tick_params(axis='both', which='both', right=True, top=True)\n",
    "ax.tick_params(axis='both', which='major', labelsize=12,\n",
    "               width=1.7, length=5)\n",
    "ax.tick_params(axis='both', which='minor', width=1.2, length=3)\n",
    "cbar.ax.tick_params(axis='both', which='both', right=True, top=True)\n",
    "cbar.ax.tick_params(axis='both', which='major', labelsize=12,\n",
    "               width=1.7, length=5)\n",
    "cbar.ax.tick_params(axis='both', which='minor', width=1.2, length=3)\n",
    "# cbar.ax.xaxis.set_major_locator(matplotlib.ticker.LogLocator(base=3.0, numdecs=10))\n",
    "cbar.ax.xaxis.set_major_locator(matplotlib.ticker.FixedLocator([40,60,100,160, 250, 400, 600]))\n",
    "# cbar.ax.xaxis.set_minor_locator(matplotlib.ticker.FixedLocator([30, 50, 60, 70, 80, 90, 100, 200, 300,400]))\n",
    "cbar.ax.xaxis.set_major_formatter(matplotlib.ticker.ScalarFormatter())\n",
    "cbar.ax.xaxis.set_minor_formatter(matplotlib.ticker.NullFormatter())\n",
    "\n",
    "ax.xaxis.set_minor_locator(matplotlib.ticker.AutoMinorLocator())\n",
    "\n",
    "fig.tight_layout()\n",
    "fig.savefig('glaciation_time_wbühl2016.png', dpi=250)"
   ]
  },
  {
   "cell_type": "code",
   "execution_count": null,
   "id": "eeb1bef9",
   "metadata": {},
   "outputs": [],
   "source": []
  },
  {
   "cell_type": "code",
   "execution_count": 109,
   "id": "aa31c750",
   "metadata": {},
   "outputs": [
    {
     "name": "stdout",
     "output_type": "stream",
     "text": [
      "Niri 1e-1\n",
      "ri[um] for 1L-1 100.0\n",
      "ri[um] for 1000L-1 0.1\n",
      "Niri 2e-1\n",
      "ri[um] for 1L-1 100000.0\n",
      "ri[um] for 1000L-1 100.0\n"
     ]
    }
   ],
   "source": [
    "print(\"Niri 1e-1\")\n",
    "print(\"ri[um] for 1L-1\", 1e-1/1e3*1e6)\n",
    "print(\"ri[um] for 1000L-1\", 1e-1/1000e3*1e6)\n",
    "\n",
    "print(\"Niri 2e-1\")\n",
    "print(\"ri[um] for 1L-1\", 1e2/1e3*1e6)\n",
    "print(\"ri[um] for 1000L-1\", 1e2/1000e3*1e6)"
   ]
  },
  {
   "cell_type": "code",
   "execution_count": 110,
   "id": "868f093b",
   "metadata": {
    "scrolled": false
   },
   "outputs": [
    {
     "name": "stdout",
     "output_type": "stream",
     "text": [
      "input kwargs:  {'Lw': 'RY', 'rho_w': 'HS', 'D': 'HP', 'Ei': 'AB', 'Ew': 'AB'}\n",
      "(40, 50)\n"
     ]
    },
    {
     "name": "stderr",
     "output_type": "stream",
     "text": [
      "<ipython-input-110-8b6c41c1dc87>:28: MatplotlibDeprecationWarning: shading='flat' when X and Y have the same dimensions as C is deprecated since 3.3.  Either specify the corners of the quadrilaterals with X and Y, or pass shading='auto', 'nearest' or 'gouraud', or set rcParams['pcolor.shading'].  This will become an error two minor releases later.\n",
      "  pcmesh = ax.pcolormesh(Ni*1e-3, ri*1e6, uz_star,\n"
     ]
    },
    {
     "data": {
      "image/png": "[encoded data removed]",
      "text/plain": [
       "<Figure size 360x288 with 2 Axes>"
      ]
     },
     "metadata": {
      "needs_background": "light"
     },
     "output_type": "display_data"
    }
   ],
   "source": [
    "def get_uz_star(Niri, f):\n",
    "       \n",
    "    uz_star = f.bi_s*Niri/f.a0 #critical (updraft) velocity for water growth\n",
    "    eta = f.a2*f.Bi_0/f.a0\n",
    "    uz_star2008 = ((f.Ew-f.Ei)/f.Ei)*f.eta*Niri\n",
    "    \n",
    "    return uz_star\n",
    "    \n",
    "    \n",
    "T = -20\n",
    "Ni = np.logspace(2.7, 6)\n",
    "ri = np.logspace(-5, -3,40)\n",
    "\n",
    "Niv, riv = np.meshgrid(Ni, ri)\n",
    "Niri = Niv*riv\n",
    "IWC = 4.0/3.0*np.pi*Niv*riv**3*af.rho_i\n",
    "\n",
    "\n",
    "params = dict(Lw='RY',rho_w='HS', D='HP', Ei='AB', Ew='AB')\n",
    "params_alt = dict()\n",
    "\n",
    "fig, ax = plt.subplots(figsize=(5, 4))\n",
    "\n",
    "uz_star = get_uz_star(Niri, af.get_factors(273.15+T, 750e2, **params))\n",
    "\n",
    "print(uz_star.shape)\n",
    "\n",
    "pcmesh = ax.pcolormesh(Ni*1e-3, ri*1e6, uz_star,\n",
    "                       norm=matplotlib.colors.LogNorm(vmin=0.01, vmax=7)\n",
    "                      )\n",
    "\n",
    "cont = ax.contour(Ni*1e-3, ri*1e6, IWC,\n",
    "                  levels=[1e-6, 1e-5, 1e-4, 1e-3, 1e-2],\n",
    "                  colors='white'\n",
    "                 )\n",
    "\n",
    "\n",
    "f = matplotlib.ticker.ScalarFormatter(useMathText=True)\n",
    "\n",
    "IWC = 1e-6\n",
    "ax.text(0.8*2.45, (3*IWC/(4*af.rho_i*np.pi*(0.8*1.45e3)))**(1/3)*1e6, \n",
    "        \"IWC ${}$\".format(f.format_data(IWC)), \n",
    "        horizontalalignment='center', rotation=-27,\n",
    "        verticalalignment='top', fontsize=12, color='white')\n",
    "IWC = 1e-5\n",
    "ax.text(0.8*2.4, (3*IWC/(4*af.rho_i*np.pi*(0.8*2e3)))**(1/3)*1e6, \n",
    "        \"${}$\".format(f.format_data(IWC)), \n",
    "        horizontalalignment='center', rotation=-30,\n",
    "        verticalalignment='top', fontsize=12, color='white')\n",
    "IWC = 1e-4\n",
    "ax.text(0.8*3.5, (3*IWC/(4*af.rho_i*np.pi*(0.8*2.8e3)))**(1/3)*1e6, \n",
    "        \"${}$\".format(f.format_data(IWC)), \n",
    "        horizontalalignment='center', rotation=-30,\n",
    "        verticalalignment='top', fontsize=12, color='white')\n",
    "IWC = 1e-3\n",
    "ax.text(0.75*5, (3*IWC/(4*af.rho_i*np.pi*(0.75*4.3e3)))**(1/3)*1e6, \n",
    "        \"${}$\".format(f.format_data(IWC)), \n",
    "        horizontalalignment='center', rotation=-30,\n",
    "        verticalalignment='top', fontsize=12, color='white')\n",
    "IWC = 1e-2\n",
    "ax.text(0.7*7.7, (3*IWC/(4*af.rho_i*np.pi*(0.7*6.5e3)))**(1/3)*1e6, \n",
    "        \"${}$\".format(f.format_data(IWC)), \n",
    "        horizontalalignment='center', rotation=-30,\n",
    "        verticalalignment='top', fontsize=12, color='white')\n",
    "\n",
    "\n",
    "cbar = fig.colorbar(pcmesh)\n",
    "cbar.set_label('w$^*$ [m s$^{-1}$]', fontsize=13)\n",
    "\n",
    "\n",
    "ax.set_yscale('log')\n",
    "ax.set_xscale('log')\n",
    "# ax.set_ylim([1e-4, 1e1])\n",
    "ax.set_ylabel('Radius r$_i$ [$\\\\mu$m]', fontsize=13)\n",
    "ax.set_xlabel('N$_i$ [L$^{-1}$]', fontsize=13)\n",
    "\n",
    "\n",
    "ax.tick_params(axis='both', which='both', right=True, top=True)\n",
    "ax.tick_params(axis='both', which='major', labelsize=12,\n",
    "               width=1.7, length=5)\n",
    "ax.tick_params(axis='both', which='minor', width=1.2, length=3)\n",
    "cbar.ax.tick_params(axis='both', which='both', right=True, top=True)\n",
    "cbar.ax.tick_params(axis='both', which='major', labelsize=12,\n",
    "               width=1.7, length=5)\n",
    "cbar.ax.tick_params(axis='both', which='minor', width=1.2, length=3)\n",
    "cbar.ax.yaxis.set_major_formatter(matplotlib.ticker.ScalarFormatter())\n",
    "\n",
    "fig.tight_layout()\n",
    "fig.savefig('w_crit_2d.png', dpi=250)"
   ]
  },
  {
   "cell_type": "code",
   "execution_count": 111,
   "id": "f6c4fbf1",
   "metadata": {},
   "outputs": [],
   "source": [
    "from scipy.ndimage import median_filter"
   ]
  },
  {
   "cell_type": "code",
   "execution_count": 112,
   "id": "9f76973b",
   "metadata": {
    "scrolled": false
   },
   "outputs": [],
   "source": [
    "def t_gl_u(Ni, lwc, iwc, u, f, Nw=False,):\n",
    "    \"\"\"Pinsky 2014\n",
    "    \n",
    "    eq 23\n",
    "    \"\"\"\n",
    "    \n",
    "    qw = lwc/f.rho_a\n",
    "    qi = iwc/f.rho_a\n",
    "    \n",
    "    Nip23 = Ni**(2/3)\n",
    "    Nwp23 = Nw**(2/3)\n",
    "    \n",
    "    gamma = (3*f.a0*u)/(2*(f.ksi-1)*f.upsilon_i*f.Bi*Nip23*f.a2)\n",
    "    \n",
    "    q0 = (qi + f.a1*qw/f.a2 \\\n",
    "          - (((3*qi**(2/3))/(2*(f.ksi-1)*f.upsilon_i*f.Bi*Nip23)) - \\\n",
    "             ((3*f.ksi*qw**(2/3))/(2*(f.ksi-1)*f.upsilon_w*f.Bw*Nwp23)))*(f.a0/f.a2*u))\n",
    "    \n",
    "\n",
    "    discr = (- (4*gamma**3*q0**3+27*q0**4)).astype(np.complex64)\n",
    "    \n",
    "    case = (4*gamma**3 + 27*q0)\n",
    "#     print('discr ', discr)\n",
    "    print('case ', 4*gamma**3 + 27*q0)\n",
    "    \n",
    "    #print('inside root', -3*discr, np.sqrt(-3*discr))   \n",
    "        \n",
    "#     a = 1\n",
    "#     b = -1*gamma**2\n",
    "#     c = -2*q0*gamma\n",
    "#     d = -1*q0**2\n",
    "#     roots = np.roots([a, b, c, d])\n",
    "#     print('numpy ', roots)\n",
    "\n",
    "    t72_108_8_12 = (72*gamma**3*q0 + 108*q0**2 + 8*gamma**6 + 12*np.sqrt(-3*discr))\n",
    "    tt1 = t72_108_8_12**(1/3)/6 \\\n",
    "          + gamma**2/3 \\\n",
    "          + 2*gamma*(2*q0 + gamma**3/3)*t72_108_8_12**(-1/3)\n",
    "    \n",
    "    tt2 = -1/12*t72_108_8_12**(1/3) \\\n",
    "          + gamma**2/3 \\\n",
    "          - gamma*(2*q0 + gamma**3/3)*t72_108_8_12**(-1/3) \\\n",
    "          + (np.sqrt(3)/2)*np.array(1j)*(t72_108_8_12**(1/3)/6 - 2*gamma*(2*q0 + gamma**3/3)*t72_108_8_12**(-1/3))\n",
    "    \n",
    "#     print('tt1', tt1)\n",
    "#     print('tt2', tt2)\n",
    "    tt = np.zeros_like(tt1)\n",
    "    tt[case > 0] = tt1[case > 0]\n",
    "    tt[case < 0] = tt2[case < 0]\n",
    "    # values too close to 0 cause numerical problems\n",
    "    tt[np.abs(case)< 0.0005] = np.nan\n",
    "    \n",
    "#     print(tt)\n",
    "    tt = np.real(tt)\n",
    "\n",
    "#     print('tt ', tt)\n",
    "    tau_gl = 3/(2*(f.ksi - 1)*f.upsilon_i*f.Bi*Nip23)*tt - \\\n",
    "            3/(2*(f.ksi - 1))*((qi**(2/3)/(f.upsilon_i*f.Bi*Nip23))-((f.ksi*qw**(2/3))/(f.upsilon_w*f.Bw*Nwp23)))\n",
    "    \n",
    "    return tau_gl\n"
   ]
  },
  {
   "cell_type": "code",
   "execution_count": 123,
   "id": "1108ae5e",
   "metadata": {
    "scrolled": false
   },
   "outputs": [
    {
     "name": "stdout",
     "output_type": "stream",
     "text": [
      "input kwargs:  {'Lw': 'RY', 'rho_w': 'HS', 'D': 'HP', 'Ei': 'M', 'Ew': 'M'}\n",
      "case  [-1.79672186e+04 -1.64998358e+04 -1.51146044e+04 -1.38091578e+04\n",
      " -1.25811297e+04 -1.14281533e+04 -1.03478624e+04 -9.33789026e+03\n",
      " -8.39587051e+03 -7.51943663e+03 -6.70622211e+03 -5.95386044e+03\n",
      " -5.25998514e+03 -4.62222970e+03 -4.03822762e+03 -3.50561240e+03\n",
      " -3.02201753e+03 -2.58507653e+03 -2.19242289e+03 -1.84169011e+03\n",
      " -1.53051168e+03 -1.25652112e+03 -1.01735191e+03 -8.10637566e+02\n",
      " -6.34011578e+02 -4.85107449e+02 -3.61558678e+02 -2.60998766e+02\n",
      " -1.81061212e+02 -1.19379516e+02 -7.35871787e+01 -4.13176988e+01\n",
      " -2.02045766e+01 -7.88131212e+00 -1.98140510e+00 -1.38355442e-01\n",
      "  1.43369779e-02  8.43172292e-01  4.71465063e+00  1.39952721e+01\n",
      "  3.10515369e+01  5.82499451e+01  9.79569968e+01  1.52539192e+02\n",
      "  2.24363031e+02  3.15795015e+02  4.29201642e+02  5.66949413e+02\n",
      "  7.31404829e+02  9.24934389e+02  1.14990459e+03  1.40868194e+03\n",
      "  1.70363294e+03  2.03712408e+03  2.41152186e+03  2.82919279e+03\n",
      "  3.29250337e+03  3.80382009e+03  4.36550945e+03  4.97993797e+03\n",
      "  5.64947212e+03  6.37647843e+03  7.16332338e+03  8.01237347e+03\n",
      "  8.92599522e+03  9.90655511e+03  1.09564196e+04  1.20779553e+04]\n",
      "input kwargs:  {'Lw': 'RY', 'rho_w': 'HS', 'D': 'HP', 'Ei': 'M', 'Ew': 'M'}\n",
      "case  [-1.79665856e+02 -1.64992061e+02 -1.51139780e+02 -1.38085347e+02\n",
      " -1.25805098e+02 -1.14275368e+02 -1.03472491e+02 -9.33728029e+01\n",
      " -8.39526383e+01 -7.51883323e+01 -6.70562200e+01 -5.95326363e+01\n",
      " -5.25939161e+01 -4.62163946e+01 -4.03764066e+01 -3.50502873e+01\n",
      " -3.02143716e+01 -2.58449944e+01 -2.19184909e+01 -1.84111959e+01\n",
      " -1.52994446e+01 -1.25595718e+01 -1.01679126e+01 -8.10080203e+00\n",
      " -6.33457504e+00 -4.84556662e+00 -3.61011180e+00 -2.60454555e+00\n",
      " -1.80520290e+00 -1.18841882e+00 -7.30528319e-01 -4.07866400e-01\n",
      " -1.96768059e-01 -7.35682935e-02 -1.46021032e-02  3.79551337e-03\n",
      "  5.28955760e-03  1.35450308e-02  5.22269342e-02  1.45000269e-01\n",
      "  3.15530037e-01  5.87481239e-01  9.84518876e-01  1.53030795e+00\n",
      "  2.24851346e+00  3.16280041e+00  4.29683381e+00  5.67427864e+00\n",
      "  7.31879992e+00  9.25406264e+00  1.15037318e+01  1.40914724e+01\n",
      "  1.70409495e+01  2.03758280e+01  2.41197730e+01  2.82964494e+01\n",
      "  3.29295223e+01  3.80426566e+01  4.36595174e+01  4.98037696e+01\n",
      "  5.64990783e+01  6.37691085e+01  7.16375251e+01  8.01279932e+01\n",
      "  8.92641777e+01  9.90697437e+01  1.09568356e+02  1.20783680e+02]\n",
      "input kwargs:  {'Lw': 'RY', 'rho_w': 'HS', 'D': 'HP', 'Ei': 'M', 'Ew': 'M'}\n",
      "case  [-1.79186465e+00 -1.64511658e+00 -1.50658364e+00 -1.37602918e+00\n",
      " -1.25321657e+00 -1.13790914e+00 -1.02987024e+00 -9.28863233e-01\n",
      " -8.34651460e-01 -7.46998274e-01 -6.65667024e-01 -5.90421059e-01\n",
      " -5.21023731e-01 -4.57238389e-01 -3.98828382e-01 -3.45557062e-01\n",
      " -2.97187778e-01 -2.53483880e-01 -2.14208717e-01 -1.79125641e-01\n",
      " -1.47998000e-01 -1.20589146e-01 -9.66624272e-02 -7.59811944e-02\n",
      " -5.83087975e-02 -4.34085865e-02 -3.10439114e-02 -2.09781221e-02\n",
      " -1.29745686e-02 -6.79660090e-03 -2.20756903e-03  1.02917705e-03\n",
      "  3.15028735e-03  4.39241189e-03  4.99220069e-03  5.18630374e-03\n",
      "  5.21137107e-03  5.30405269e-03  5.70099862e-03  6.63885885e-03\n",
      "  8.35428342e-03  1.10839223e-02  1.50644256e-02  2.05324432e-02\n",
      "  2.77246252e-02  3.68776216e-02  4.82280825e-02  6.20126577e-02\n",
      "  7.84679973e-02  9.78307515e-02  1.20337570e-01  1.46225103e-01\n",
      "  1.75730001e-01  2.09088913e-01  2.46538489e-01  2.88315380e-01\n",
      "  3.34656236e-01  3.85797706e-01  4.41976441e-01  5.03429090e-01\n",
      "  5.70392304e-01  6.43102732e-01  7.21797025e-01  8.06711833e-01\n",
      "  8.98083805e-01  9.96149592e-01  1.10114584e+00  1.21330921e+00]\n",
      "input kwargs:  {'Lw': 'RY', 'rho_w': 'HS', 'D': 'HP', 'Ei': 'M', 'Ew': 'M'}\n",
      "case  [-6.73013735e-02 -6.14139186e-02 -5.58550691e-02 -5.06153590e-02\n",
      " -4.56853224e-02 -4.10554933e-02 -3.67164056e-02 -3.26585933e-02\n",
      " -2.88725905e-02 -2.53489312e-02 -2.20781492e-02 -1.90507787e-02\n",
      " -1.62573537e-02 -1.36884081e-02 -1.13344759e-02 -9.18609120e-03\n",
      " -7.23378792e-03 -5.46810007e-03 -3.87956167e-03 -2.45870670e-03\n",
      " -1.19606917e-03 -8.21830712e-05  8.92417588e-04  1.73719881e-03\n",
      "  2.46162660e-03  3.07516695e-03  3.58728587e-03  4.00744936e-03\n",
      "  4.34512341e-03  4.60977403e-03  4.81086722e-03  4.95786897e-03\n",
      "  5.06024530e-03  5.12746219e-03  5.16898566e-03  5.19428169e-03\n",
      "  5.21281630e-03  5.23405548e-03  5.26746523e-03  5.32251155e-03\n",
      "  5.40866045e-03  5.53537791e-03  5.71212996e-03  5.94838258e-03\n",
      "  6.25360177e-03  6.63725354e-03  7.10880388e-03  7.67771881e-03\n",
      "  8.35346431e-03  9.14550638e-03  1.00633110e-02  1.11163443e-02\n",
      "  1.23140721e-02  1.36659605e-02  1.51814755e-02  1.68700830e-02\n",
      "  1.87412491e-02  2.08044399e-02  2.30691212e-02  2.55447591e-02\n",
      "  2.82408195e-02  3.11667686e-02  3.43320722e-02  3.77461964e-02\n",
      "  4.14186072e-02  4.53587706e-02  4.95761526e-02  5.40802192e-02]\n",
      "input kwargs:  {'Lw': 'RY', 'rho_w': 'HS', 'D': 'HP', 'Ei': 'M', 'Ew': 'M'}\n",
      "case  [-0.01345565 -0.01196878 -0.01056406 -0.00923912 -0.0079916  -0.00681913\n",
      " -0.00571935 -0.00468989 -0.00372838 -0.00283246 -0.00199975 -0.0012279\n",
      " -0.00051453  0.00014271  0.00074621  0.00129831  0.0018014   0.00225783\n",
      "  0.00266997  0.00304019  0.00337086  0.00366434  0.003923    0.00414921\n",
      "  0.00434533  0.00451372  0.00465676  0.00477681  0.00487624  0.00495741\n",
      "  0.00502269  0.00507445  0.00511506  0.00514687  0.00517226  0.00519359\n",
      "  0.00521324  0.00523356  0.00525692  0.00528569  0.00532224  0.00536892\n",
      "  0.00542812  0.00550219  0.00559351  0.00570443  0.00583733  0.00599457\n",
      "  0.00617851  0.00639153  0.00663599  0.00691426  0.0072287   0.00758168\n",
      "  0.00797557  0.00841273  0.00889553  0.00942634  0.01000752  0.01064144\n",
      "  0.01133046  0.01207696  0.0128833   0.01375184  0.01468495  0.015685\n",
      "  0.01675435  0.01789538]\n"
     ]
    },
    {
     "name": "stderr",
     "output_type": "stream",
     "text": [
      "<ipython-input-123-f3fc915653d9>:28: RuntimeWarning: invalid value encountered in greater\n",
      "  tau[u*tau > 4000] = np.nan\n",
      "<ipython-input-123-f3fc915653d9>:32: RuntimeWarning: invalid value encountered in greater\n",
      "  tau[u*tau > 4000] = np.nan\n"
     ]
    },
    {
     "data": {
      "image/png": "[encoded data removed]",
      "text/plain": [
       "<Figure size 316.8x288 with 1 Axes>"
      ]
     },
     "metadata": {
      "needs_background": "light"
     },
     "output_type": "display_data"
    }
   ],
   "source": [
    "u = np.arange(-5,4.5,0.14)\n",
    "\n",
    "\n",
    "fig, ax = plt.subplots(figsize=(4.4, 4))\n",
    "\n",
    "thres = 1500/u\n",
    "thres[thres < 0] =np.nan\n",
    "ax.fill_between(u, thres, 1e5, color='grey', alpha=0.2)\n",
    "ax.text(2.25, 1.6e4, \n",
    "        \"$\\Delta $Z > 1.5km\", \n",
    "        horizontalalignment='center',\n",
    "        verticalalignment='top', fontsize=12, color='dimgrey')\n",
    "\n",
    "\n",
    "tau = t_gl_u(1e3, 0.2e-3, 1e-7, u, af.get_factors(273.15-15, 750e2, **params), Nw=100e6)\n",
    "tau[u*tau > 4000] = np.nan\n",
    "ax.plot(u, tau, label='1 L$^{-1}$')\n",
    "\n",
    "tau = t_gl_u(10e3, 0.2e-3, 1e-7, u, af.get_factors(273.15-15, 750e2, **params), Nw=100e6)\n",
    "tau[u*tau > 4000] = np.nan\n",
    "ax.plot(u, tau, label='10 L$^{-1}$')\n",
    "\n",
    "tau = t_gl_u(100e3, 0.2e-3, 1e-7, u, af.get_factors(273.15-15, 750e2, **params), Nw=100e6)\n",
    "tau[u*tau > 4000] = np.nan\n",
    "ax.plot(u, tau, label='100 L$^{-1}$')\n",
    "\n",
    "tau = t_gl_u(500e3, 0.2e-3, 1e-7, u, af.get_factors(273.15-15, 750e2, **params), Nw=100e6)\n",
    "tau[u*tau > 4000] = np.nan\n",
    "ax.plot(u, tau, label='500 L$^{-1}$')\n",
    "\n",
    "tau = t_gl_u(1000e3, 0.2e-3, 1e-7, u, af.get_factors(273.15-15, 750e2, **params), Nw=100e6)\n",
    "tau[u*tau > 4000] = np.nan\n",
    "ax.plot(u, tau, label='1000 L$^{-1}$')\n",
    "\n",
    "ax.legend(fontsize=11)\n",
    "ax.set_ylim([5e1, 5e4])\n",
    "ax.set_yscale('log')\n",
    "ax.set_xlim([-5, 4])\n",
    "\n",
    "ax.set_ylabel('Glaciation time $\\\\tau_{gl}$ [s]', fontsize=13)\n",
    "ax.set_xlabel('Vertical velocity $w$ [m s$^{-1}$]', fontsize=13)\n",
    "\n",
    "ax.xaxis.set_minor_locator(matplotlib.ticker.AutoMinorLocator())\n",
    "\n",
    "ax.tick_params(axis='both', which='both', right=True, top=True)\n",
    "ax.tick_params(axis='both', which='major', labelsize=12,\n",
    "               width=1.7, length=5)\n",
    "ax.tick_params(axis='both', which='minor', width=1.2, length=3)\n",
    "\n",
    "fig.tight_layout()\n",
    "fig.savefig('glaciation_time_u.png', dpi=250)"
   ]
  },
  {
   "cell_type": "code",
   "execution_count": null,
   "id": "f8ea01a1",
   "metadata": {},
   "outputs": [],
   "source": []
  },
  {
   "cell_type": "code",
   "execution_count": null,
   "id": "585522a4",
   "metadata": {},
   "outputs": [],
   "source": []
  }
 ],
 "metadata": {
  "kernelspec": {
   "display_name": "Python 3",
   "language": "python",
   "name": "python3"
  },
  "language_info": {
   "codemirror_mode": {
    "name": "ipython",
    "version": 3
   },
   "file_extension": ".py",
   "mimetype": "text/x-python",
   "name": "python",
   "nbconvert_exporter": "python",
   "pygments_lexer": "ipython3",
   "version": "3.8.5"
  }
 },
 "nbformat": 4,
 "nbformat_minor": 5
}
